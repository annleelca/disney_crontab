{
 "cells": [
  {
   "cell_type": "code",
   "execution_count": null,
   "metadata": {},
   "outputs": [],
   "source": [
    "import json\n",
    "from datetime import datetime\n",
    "\n",
    "# 讀取 JSON 檔案\n",
    "with open(r'C:\\Users\\student\\Desktop\\disney\\history_test.json', 'r', encoding='utf-8') as file:\n",
    "    data = json.load(file)\n",
    "\n",
    "# 新增一個鍵值對，儲存星期幾\n",
    "for record in data:\n",
    "    datetime_str = record['datetime']\n",
    "    dt = datetime.strptime(datetime_str, '%Y-%m-%d %H:%M')\n",
    "    record['weekday'] = dt.strftime('%A')\n",
    "\n",
    "# 輸出結果\n",
    "for record in data:\n",
    "    print(f\"日期: {record['datetime']}, 星期: {record['weekday']}\")\n",
    "\n",
    "# 如果需要將結果保存到新的 JSON 檔案中\n",
    "with open(r'C:\\Users\\student\\Desktop\\disney\\save_time.json', 'w', encoding='utf-8') as file:\n",
    "    json.dump(data, file, ensure_ascii=False, indent=4)"
   ]
  },
  {
   "cell_type": "code",
   "execution_count": 2,
   "metadata": {},
   "outputs": [],
   "source": [
    "# 導入必要的庫\n",
    "import pandas as pd\n",
    "import json\n",
    "from datetime import timedelta\n",
    "\n",
    "# 讀取 JSON 檔案\n",
    "file_path = '/Users/chianlee/Desktop/disney/data/testing_data_sea.json'\n",
    "file_path_names = '/Users/chianlee/Desktop/disney/data/sea_namelist.json'\n",
    "\n",
    "with open(file_path, 'r', encoding='utf-8') as file:\n",
    "    data = json.load(file)\n",
    "\n",
    "with open(file_path_names, 'r', encoding='utf-8') as file:\n",
    "    names = json.load(file)"
   ]
  },
  {
   "cell_type": "code",
   "execution_count": 3,
   "metadata": {},
   "outputs": [
    {
     "data": {
      "text/html": [
       "<div>\n",
       "<style scoped>\n",
       "    .dataframe tbody tr th:only-of-type {\n",
       "        vertical-align: middle;\n",
       "    }\n",
       "\n",
       "    .dataframe tbody tr th {\n",
       "        vertical-align: top;\n",
       "    }\n",
       "\n",
       "    .dataframe thead th {\n",
       "        text-align: right;\n",
       "    }\n",
       "</style>\n",
       "<table border=\"1\" class=\"dataframe\">\n",
       "  <thead>\n",
       "    <tr style=\"text-align: right;\">\n",
       "      <th></th>\n",
       "      <th>StandbyTime</th>\n",
       "      <th>FacilityID</th>\n",
       "      <th>UpdateTime</th>\n",
       "      <th>datetime</th>\n",
       "    </tr>\n",
       "  </thead>\n",
       "  <tbody>\n",
       "    <tr>\n",
       "      <th>0</th>\n",
       "      <td>5</td>\n",
       "      <td>234</td>\n",
       "      <td>9:00</td>\n",
       "      <td>2024-07-31 07:36</td>\n",
       "    </tr>\n",
       "    <tr>\n",
       "      <th>3</th>\n",
       "      <td>5</td>\n",
       "      <td>222</td>\n",
       "      <td>9:00</td>\n",
       "      <td>2024-07-31 07:36</td>\n",
       "    </tr>\n",
       "    <tr>\n",
       "      <th>4</th>\n",
       "      <td>5</td>\n",
       "      <td>236</td>\n",
       "      <td>9:00</td>\n",
       "      <td>2024-07-31 07:36</td>\n",
       "    </tr>\n",
       "    <tr>\n",
       "      <th>5</th>\n",
       "      <td>0</td>\n",
       "      <td>235</td>\n",
       "      <td>9:00</td>\n",
       "      <td>2024-07-31 07:36</td>\n",
       "    </tr>\n",
       "    <tr>\n",
       "      <th>6</th>\n",
       "      <td>5</td>\n",
       "      <td>220</td>\n",
       "      <td>9:00</td>\n",
       "      <td>2024-07-31 07:36</td>\n",
       "    </tr>\n",
       "  </tbody>\n",
       "</table>\n",
       "</div>"
      ],
      "text/plain": [
       "  StandbyTime FacilityID UpdateTime          datetime\n",
       "0           5        234       9:00  2024-07-31 07:36\n",
       "3           5        222       9:00  2024-07-31 07:36\n",
       "4           5        236       9:00  2024-07-31 07:36\n",
       "5           0        235       9:00  2024-07-31 07:36\n",
       "6           5        220       9:00  2024-07-31 07:36"
      ]
     },
     "execution_count": 3,
     "metadata": {},
     "output_type": "execute_result"
    }
   ],
   "source": [
    "# 轉換為 DataFrame\n",
    "df_data = pd.DataFrame(data)\n",
    "df_names = pd.DataFrame(names)\n",
    "\n",
    "# 刪除 'FacilityName' 欄位並移除 'StandbyTime' 為 null 的行\n",
    "df_data = df_data.drop(columns=['FacilityName'])\n",
    "df_data = df_data[df_data['StandbyTime'].notna()]\n",
    "df_data = df_data[df_data['StandbyTime'] != False]\n",
    "\n",
    "# 顯示處理後的5筆數據\n",
    "df_data.head(5)"
   ]
  },
  {
   "cell_type": "code",
   "execution_count": null,
   "metadata": {},
   "outputs": [],
   "source": [
    "# 解析日期時間欄位\n",
    "df_data['UpdateTime'] = pd.to_datetime(df_data['UpdateTime'], format='%H:%M')\n",
    "df_data['datetime'] = pd.to_datetime(df_data['datetime'])\n",
    "\n",
    "# 將所有 datetime 欄位加上一小時\n",
    "df_data['datetime'] = df_data['datetime'] + pd.Timedelta(hours=1)\n",
    "\n",
    "# 提取日期並應用於 UpdateTime\n",
    "df_data['UpdateTime'] = df_data.apply(\n",
    "    lambda row: row['UpdateTime'].replace(year=row['datetime'].year, month=row['datetime'].month, day=row['datetime'].day),\n",
    "    axis=1\n",
    ")\n",
    "\n",
    "# 顯示處理後的5筆數據\n",
    "df_data.head(-5)"
   ]
  },
  {
   "cell_type": "code",
   "execution_count": null,
   "metadata": {},
   "outputs": [],
   "source": [
    "# 計算 UpdateTime 和 datetime 之間的時間差（以小時為單位）\n",
    "df_data['time_difference'] = (df_data['datetime'] - df_data['UpdateTime'])\n",
    "\n",
    "# 刪除時間差超過2小時的資料\n",
    "df_filtered = df_data[df_data['time_difference'] <= timedelta(hours=2)]\n",
    "\n",
    "# 刪除多餘的時間差欄位\n",
    "df_filtered = df_filtered.drop(columns=['time_difference'])\n",
    "\n",
    "# 顯示處理後的5筆數據\n",
    "df_filtered.head(-5)"
   ]
  },
  {
   "cell_type": "code",
   "execution_count": null,
   "metadata": {},
   "outputs": [],
   "source": [
    "# 將 StandbyTime 轉換為數值型\n",
    "df_filtered['StandbyTime'] = pd.to_numeric(df_filtered['StandbyTime'], errors='coerce')\n",
    "\n",
    "# 提取設施名稱和小時\n",
    "df_filtered['Hour'] = df_filtered['datetime'].dt.hour\n",
    "\n",
    "# 篩選 8 點到 20 點之間的數據\n",
    "df_filtered = df_filtered[(df_filtered['Hour'] >= 8) & (df_filtered['Hour'] <= 20)]\n",
    "\n",
    "# 合併數據框以添加英文設施名稱\n",
    "df_filtered = df_filtered.merge(df_names[['FacilityID', 'FacilityEnglish']], on='FacilityID', how='left')\n",
    "\n",
    "# 確保每個設施在 8 點到 20 點都有數據\n",
    "all_hours = pd.DataFrame({'Hour': range(8, 21)})\n",
    "all_facilities = df_filtered['FacilityEnglish'].unique()\n",
    "\n",
    "full_df = pd.DataFrame()\n",
    "for facility in all_facilities:\n",
    "    facility_data = pd.merge(all_hours, df_filtered[df_filtered['FacilityEnglish'] == facility], on='Hour', how='left')\n",
    "    facility_data['FacilityEnglish'] = facility\n",
    "    # 對該設施的 StandbyTime 進行線性插值和前後填充\n",
    "    facility_data['StandbyTime'] = facility_data['StandbyTime'].interpolate(method='linear').ffill().bfill()\n",
    "    full_df = pd.concat([full_df, facility_data], ignore_index=True)\n",
    "\n",
    "# 計算每個設施在 8 點到 20 點之間的平均等待時間\n",
    "average_wait_times = full_df.groupby('FacilityEnglish')['StandbyTime'].mean().reset_index()\n",
    "\n",
    "# 顯示結果\n",
    "print(average_wait_times)"
   ]
  },
  {
   "cell_type": "code",
   "execution_count": null,
   "metadata": {},
   "outputs": [],
   "source": [
    "import matplotlib.pyplot as plt\n",
    "\n",
    "# 設置圖表大小\n",
    "plt.figure(figsize=(24, 18))\n",
    "\n",
    "# 為每個設施畫折線\n",
    "for facility in full_df['FacilityEnglish'].unique():\n",
    "    facility_data = full_df[full_df['FacilityEnglish'] == facility]\n",
    "    plt.plot(facility_data['Hour'], facility_data['StandbyTime'], marker='o', label=facility)\n",
    "\n",
    "# 添加圖例和標籤\n",
    "plt.legend(title='Facility')\n",
    "plt.xlabel('Hour')\n",
    "plt.ylabel('Average Standby Time (minutes)')\n",
    "plt.title('Average Standby Time by Hour')\n",
    "plt.grid(True)\n",
    "plt.show()"
   ]
  },
  {
   "cell_type": "code",
   "execution_count": null,
   "metadata": {},
   "outputs": [],
   "source": [
    "import seaborn as sns\n",
    "import matplotlib.pyplot as plt\n",
    "\n",
    "# 設置圖表大小\n",
    "plt.figure(figsize=(18, 12))\n",
    "\n",
    "# 創建透視表（pivot table）使用full_df，而非average_wait_times\n",
    "pivot_df = full_df.pivot_table(index='Hour', columns='FacilityEnglish', values='StandbyTime', aggfunc='mean')\n",
    "\n",
    "# 使用 Seaborn 繪製熱圖\n",
    "sns.heatmap(pivot_df, annot=True, fmt=\".1f\", cmap=\"YlGnBu\")\n",
    "\n",
    "# 添加標題和標籤\n",
    "plt.title('Heatmap of Average Standby Time by Hour and Facility')\n",
    "plt.xlabel('Facility')\n",
    "plt.ylabel('Hour')\n",
    "plt.show()\n"
   ]
  },
  {
   "cell_type": "code",
   "execution_count": null,
   "metadata": {},
   "outputs": [],
   "source": [
    "df_filtered.describe()"
   ]
  },
  {
   "cell_type": "code",
   "execution_count": null,
   "metadata": {},
   "outputs": [],
   "source": [
    "df_filtered.shape"
   ]
  },
  {
   "cell_type": "code",
   "execution_count": null,
   "metadata": {},
   "outputs": [],
   "source": [
    "df_filtered.isnull().sum()"
   ]
  },
  {
   "cell_type": "code",
   "execution_count": null,
   "metadata": {},
   "outputs": [],
   "source": [
    "df_filtered.info()"
   ]
  }
 ],
 "metadata": {
  "kernelspec": {
   "display_name": "Python 3",
   "language": "python",
   "name": "python3"
  },
  "language_info": {
   "codemirror_mode": {
    "name": "ipython",
    "version": 3
   },
   "file_extension": ".py",
   "mimetype": "text/x-python",
   "name": "python",
   "nbconvert_exporter": "python",
   "pygments_lexer": "ipython3",
   "version": "3.11.5"
  }
 },
 "nbformat": 4,
 "nbformat_minor": 2
}
