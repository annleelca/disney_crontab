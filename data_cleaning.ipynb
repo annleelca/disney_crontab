{
 "cells": [
  {
   "cell_type": "code",
   "execution_count": null,
   "metadata": {},
   "outputs": [],
   "source": [
    "import json\n",
    "from datetime import datetime\n",
    "\n",
    "# 讀取 JSON 檔案\n",
    "with open(r'C:\\Users\\student\\Desktop\\disney\\history_test.json', 'r', encoding='utf-8') as file:\n",
    "    data = json.load(file)\n",
    "\n",
    "# 新增一個鍵值對，儲存星期幾\n",
    "for record in data:\n",
    "    datetime_str = record['datetime']\n",
    "    dt = datetime.strptime(datetime_str, '%Y-%m-%d %H:%M')\n",
    "    record['weekday'] = dt.strftime('%A')\n",
    "\n",
    "# 輸出結果\n",
    "for record in data:\n",
    "    print(f\"日期: {record['datetime']}, 星期: {record['weekday']}\")\n",
    "\n",
    "# 如果需要將結果保存到新的 JSON 檔案中\n",
    "with open(r'C:\\Users\\student\\Desktop\\disney\\save_time.json', 'w', encoding='utf-8') as file:\n",
    "    json.dump(data, file, ensure_ascii=False, indent=4)"
   ]
  },
  {
   "cell_type": "code",
   "execution_count": null,
   "metadata": {},
   "outputs": [],
   "source": [
    "# 導入必要的庫\n",
    "import pandas as pd\n",
    "import json\n",
    "from datetime import timedelta\n",
    "\n",
    "# 讀取 JSON 檔案\n",
    "file_path = '/Users/chianlee/Desktop/disney/testing_data_sea.json'\n",
    "file_path_names = '/Users/chianlee/Desktop/disney/sea_namelist.json'\n",
    "\n",
    "with open(file_path, 'r', encoding='utf-8') as file:\n",
    "    data = json.load(file)\n",
    "\n",
    "with open(file_path_names, 'r', encoding='utf-8') as file:\n",
    "    names = json.load(file)"
   ]
  },
  {
   "cell_type": "code",
   "execution_count": null,
   "metadata": {},
   "outputs": [],
   "source": [
    "# 轉換為 DataFrame\n",
    "df_data = pd.DataFrame(data)\n",
    "df_names = pd.DataFrame(names)\n",
    "\n",
    "# 刪除 'FacilityName' 欄位\n",
    "df_data = df_data.drop(columns=['FacilityName'])\n",
    "\n",
    "# 刪除 'StandbyTime' 為 null 值的行\n",
    "df_data = df_data[df_data['StandbyTime'].notna()]\n",
    "\n",
    "# 顯示處理後的數據\n",
    "df_data.head(5)"
   ]
  },
  {
   "cell_type": "code",
   "execution_count": null,
   "metadata": {},
   "outputs": [],
   "source": [
    "# 解析日期時間欄位\n",
    "df_cleaned['UpdateTime'] = pd.to_datetime(df_cleaned['UpdateTime'], format='%H:%M')\n",
    "df_cleaned['datetime'] = pd.to_datetime(df_cleaned['datetime'])\n",
    "\n",
    "# 提取日期並應用於 UpdateTime\n",
    "df_cleaned['UpdateTime'] = df_cleaned.apply(\n",
    "    lambda row: row['UpdateTime'].replace(year=row['datetime'].year, month=row['datetime'].month, day=row['datetime'].day),\n",
    "    axis=1\n",
    ")\n",
    "\n",
    "# 計算 UpdateTime 和 datetime 之間的時間差（以小時為單位）\n",
    "df_cleaned['time_difference'] = (df_cleaned['datetime'] - df_cleaned['UpdateTime'])\n",
    "\n",
    "# 刪除時間差超過1小時的資料\n",
    "df_filtered = df_cleaned[df_cleaned['time_difference'] <= timedelta(hours=1)]\n",
    "\n",
    "# 刪除多餘的時間差欄位\n",
    "df_filtered = df_filtered.drop(columns=['time_difference'])\n",
    "\n",
    "# 顯示處理後的數據\n",
    "df_filtered.head()"
   ]
  },
  {
   "cell_type": "code",
   "execution_count": null,
   "metadata": {},
   "outputs": [],
   "source": [
    "df_filtered.describe()"
   ]
  },
  {
   "cell_type": "code",
   "execution_count": null,
   "metadata": {},
   "outputs": [],
   "source": [
    "df_filtered.shape"
   ]
  },
  {
   "cell_type": "code",
   "execution_count": null,
   "metadata": {},
   "outputs": [],
   "source": [
    "df_filtered.isnull().sum()"
   ]
  },
  {
   "cell_type": "code",
   "execution_count": null,
   "metadata": {},
   "outputs": [],
   "source": [
    "df_filtered.info()"
   ]
  }
 ],
 "metadata": {
  "kernelspec": {
   "display_name": "Python 3",
   "language": "python",
   "name": "python3"
  },
  "language_info": {
   "codemirror_mode": {
    "name": "ipython",
    "version": 3
   },
   "file_extension": ".py",
   "mimetype": "text/x-python",
   "name": "python",
   "nbconvert_exporter": "python",
   "pygments_lexer": "ipython3",
   "version": "3.11.5"
  }
 },
 "nbformat": 4,
 "nbformat_minor": 2
}
