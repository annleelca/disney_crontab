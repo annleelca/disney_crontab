{
 "cells": [
  {
   "cell_type": "code",
   "execution_count": 2,
   "metadata": {},
   "outputs": [],
   "source": [
    "import requests as req\n",
    "import json\n",
    "import pandas as pd\n",
    "from fake_useragent import UserAgent\n",
    "import random\n",
    "import os\n",
    "\n",
    "# 隨機取得 User-Agent\n",
    "ua = UserAgent()\n",
    "\n",
    "# 自訂標頭\n",
    "my_headers = {\n",
    "    'User-Agent': ua.random,\n",
    "        'Accept-Language': 'en-US,en;q=0.9',\n",
    "        'Referer': 'https://www.tokyodisneyresort.jp/'\n",
    "}\n",
    "\n",
    "url = \"https://www.tokyodisneyresort.jp/_/realtime/tds_attraction.json?1722321043944\"\n",
    "\n",
    "res = req.get(url, headers=my_headers)\n"
   ]
  },
  {
   "cell_type": "code",
   "execution_count": 3,
   "metadata": {},
   "outputs": [],
   "source": [
    "# 如果請求成功\n",
    "if res.status_code == 200:\n",
    "    # 將 JSON 解析為 Python 字典\n",
    "    new_data = res.json()\n",
    "\n",
    "    # 讀取現有的 JSON 文件\n",
    "    file_path = \"/Users/chianlee/Desktop/disney/sea_data.json\"\n",
    "    if os.path.exists(file_path):\n",
    "        with open(file_path, \"r\") as f:\n",
    "                    existing_data = json.load(f)\n",
    "    else:\n",
    "        existing_data = []\n",
    "        \n",
    "# 合併新舊資料並去重複\n",
    "combined_data = existing_data.copy()\n",
    "for item in new_data:\n",
    "    exists = False\n",
    "    for existing_item in existing_data:\n",
    "        if existing_item['FacilityID'] == item['FacilityID'] and existing_item['UpdateTime'] == item['UpdateTime']:exists = True\n",
    "        break\n",
    "                \n",
    "    if not exists:\n",
    "        combined_data.append({\n",
    "            'FacilityName': item['FacilityName'],\n",
    "            'StandbyTime': item['StandbyTime'],\n",
    "            'FacilityID': item['FacilityID'],\n",
    "            'UpdateTime': item['UpdateTime'],\n",
    "            'datetime': pd.Timestamp.now().strftime(\"%Y-%m-%d %H:%M\")\n",
    "            })\n",
    "\n",
    "# 寫入 JSON 文件\n",
    "with open(file_path, \"w\") as f:\n",
    "    json.dump(combined_data, f, indent=4) "
   ]
  }
 ],
 "metadata": {
  "kernelspec": {
   "display_name": "Python 3",
   "language": "python",
   "name": "python3"
  },
  "language_info": {
   "codemirror_mode": {
    "name": "ipython",
    "version": 3
   },
   "file_extension": ".py",
   "mimetype": "text/x-python",
   "name": "python",
   "nbconvert_exporter": "python",
   "pygments_lexer": "ipython3",
   "version": "3.11.5"
  }
 },
 "nbformat": 4,
 "nbformat_minor": 2
}
