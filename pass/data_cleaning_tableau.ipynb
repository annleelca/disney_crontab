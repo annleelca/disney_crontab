{
 "cells": [
  {
   "cell_type": "code",
   "execution_count": 1,
   "metadata": {},
   "outputs": [],
   "source": [
    "# 導入必要的庫\n",
    "import pandas as pd\n",
    "import json\n",
    "from datetime import timedelta\n",
    "\n",
    "# 讀取 JSON 檔案\n",
    "file_path = '/Users/chianlee/Desktop/disney/data/land_data.json'\n",
    "file_path_names = '/Users/chianlee/Desktop/disney/data/land_namelist.json'\n",
    "\n",
    "with open(file_path, 'r', encoding='utf-8') as file:\n",
    "    data = json.load(file)\n",
    "\n",
    "with open(file_path_names, 'r', encoding='utf-8') as file:\n",
    "    names = json.load(file)\n",
    "\n",
    "# 轉換為 DataFrame\n",
    "df_data = pd.DataFrame(data)\n",
    "df_names = pd.DataFrame(names)\n",
    "\n",
    "# 刪除 'FacilityName' 欄位並移除 'StandbyTime' 為 null, false 的行\n",
    "df_data = df_data.drop(columns=['FacilityName'])\n",
    "df_data = df_data[df_data['StandbyTime'].notna()]\n",
    "df_data = df_data.dropna()  # 移除包含 NaN 的行\n",
    "df_data = df_data[df_data['StandbyTime'] != False]\n",
    "\n",
    "# 解析日期時間欄位\n",
    "df_data['UpdateTime'] = pd.to_datetime(df_data['UpdateTime'], format='%H:%M')\n",
    "df_data['datetime'] = pd.to_datetime(df_data['datetime'])\n",
    "\n",
    "# 將所有 datetime 欄位加上一小時\n",
    "df_data['datetime'] = df_data['datetime'] + pd.Timedelta(hours=1)\n",
    "\n",
    "# 提取日期並應用於 UpdateTime\n",
    "df_data['UpdateTime'] = df_data.apply(\n",
    "    lambda row: row['UpdateTime'].replace(year=row['datetime'].year, month=row['datetime'].month, day=row['datetime'].day),\n",
    "    axis=1\n",
    ")\n",
    "\n",
    "# 計算 UpdateTime 和 datetime 之間的時間差（以小時為單位）\n",
    "df_data['time_difference'] = (df_data['datetime'] - df_data['UpdateTime'])\n",
    "\n",
    "# 刪除時間差超過2小時的資料\n",
    "df_filtered = df_data[df_data['time_difference'] <= timedelta(hours=2)]\n",
    "\n",
    "# 刪除多餘的時間差欄位\n",
    "df_filtered = df_filtered.drop(columns=['time_difference'])\n",
    "\n",
    "# 將 StandbyTime 轉換為數值型\n",
    "df_filtered['StandbyTime'] = pd.to_numeric(df_filtered['StandbyTime'], errors='coerce')\n",
    "\n",
    "# 提取設施名稱、日期和小時\n",
    "df_filtered['Hour'] = df_filtered['datetime'].dt.hour\n",
    "df_filtered['Date'] = df_filtered['datetime'].dt.date\n",
    "\n",
    "# 篩選 8 點到 20 點之間的數據\n",
    "df_filtered = df_filtered[(df_filtered['Hour'] >= 8) & (df_filtered['Hour'] <= 20)]\n",
    "\n",
    "# 合併數據框以添加英文設施名稱\n",
    "df_filtered = df_filtered.merge(df_names[['FacilityID', 'FacilityEnglish']], on='FacilityID', how='left')\n",
    "\n",
    "# 確保每個設施在每個日期的 8 點到 20 點都有數據\n",
    "all_hours = pd.DataFrame({'Hour': range(8, 21)})\n",
    "all_dates = df_filtered['Date'].unique()\n",
    "all_facilities = df_filtered['FacilityEnglish'].unique()\n",
    "\n",
    "full_df = pd.DataFrame()\n",
    "for date in all_dates:\n",
    "    for facility in all_facilities:\n",
    "        facility_data = pd.merge(all_hours, df_filtered[(df_filtered['FacilityEnglish'] == facility) & (df_filtered['Date'] == date)], on='Hour', how='left')\n",
    "        facility_data['FacilityEnglish'] = facility\n",
    "        facility_data['Date'] = date\n",
    "        \n",
    "        # 對該設施在該日期的 StandbyTime 進行線性插值和前後填充\n",
    "        facility_data['StandbyTime'] = facility_data['StandbyTime'].interpolate(method='linear').ffill().bfill()\n",
    "        full_df = pd.concat([full_df, facility_data], ignore_index=True)\n",
    "\n",
    "# 計算每個設施每個日期每個小時的平均等待時間\n",
    "average_wait_times_per_day_hour = full_df.groupby(['FacilityEnglish', 'Date', 'Hour'])['StandbyTime'].mean().reset_index()\n",
    "\n",
    "# 確保 Date 欄位以 ISO 8601 格式存儲\n",
    "average_wait_times_per_day_hour['Date'] = average_wait_times_per_day_hour['Date'].astype(str)\n",
    "\n",
    "# 將結果存成 JSON 格式\n",
    "output_file_path = '/Users/chianlee/Desktop/disney/data/tableau_data_land.json'\n",
    "\n",
    "# 轉換 DataFrame 為 JSON\n",
    "average_wait_times_per_day_hour.to_json(output_file_path, orient='records', lines=True, force_ascii=False, date_format='iso')\n"
   ]
  },
  {
   "cell_type": "code",
   "execution_count": 7,
   "metadata": {},
   "outputs": [
    {
     "name": "stdout",
     "output_type": "stream",
     "text": [
      "StandbyTime 欄位中共有 0 個 null 值。\n"
     ]
    }
   ],
   "source": [
    "import pandas as pd\n",
    "import json\n",
    "\n",
    "# 讀取 JSON 檔案\n",
    "file_path = '/Users/chianlee/Desktop/disney/data/tableau_data_land.json'\n",
    "\n",
    "# 轉換為 DataFrame\n",
    "df_tableau = pd.read_json(file_path, lines=True)\n",
    "\n",
    "# 計算 StandbyTime 欄位中的 null 值數量\n",
    "null_count = df_tableau['StandbyTime'].isnull().sum()\n",
    "\n",
    "print(f\"StandbyTime 欄位中共有 {null_count} 個 null 值。\")\n"
   ]
  },
  {
   "cell_type": "code",
   "execution_count": 8,
   "metadata": {},
   "outputs": [
    {
     "name": "stdout",
     "output_type": "stream",
     "text": [
      "StandbyTime 欄位中出現 null 值的設施包括：\n"
     ]
    }
   ],
   "source": [
    "# 篩選出 StandbyTime 欄位為 null 的行\n",
    "null_standbytime_df = df_tableau[df_tableau['StandbyTime'].isnull()]\n",
    "\n",
    "# 找出這些行所對應的設施名稱\n",
    "facilities_with_null_standbytime = null_standbytime_df['FacilityEnglish'].unique()\n",
    "\n",
    "print(\"StandbyTime 欄位中出現 null 值的設施包括：\")\n",
    "for facility in facilities_with_null_standbytime:\n",
    "    print(facility)\n"
   ]
  }
 ],
 "metadata": {
  "kernelspec": {
   "display_name": "Python 3",
   "language": "python",
   "name": "python3"
  },
  "language_info": {
   "codemirror_mode": {
    "name": "ipython",
    "version": 3
   },
   "file_extension": ".py",
   "mimetype": "text/x-python",
   "name": "python",
   "nbconvert_exporter": "python",
   "pygments_lexer": "ipython3",
   "version": "3.11.5"
  }
 },
 "nbformat": 4,
 "nbformat_minor": 2
}
